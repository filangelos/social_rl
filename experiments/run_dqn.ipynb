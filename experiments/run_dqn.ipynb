{
 "cells": [
  {
   "cell_type": "code",
   "execution_count": 1,
   "metadata": {},
   "outputs": [
    {
     "name": "stdout",
     "output_type": "stream",
     "text": [
      "/auto/users/anglos/Developer/psiphi\n"
     ]
    }
   ],
   "source": [
    "%cd /users/anglos/Developer/psiphi"
   ]
  },
  {
   "cell_type": "code",
   "execution_count": 2,
   "metadata": {},
   "outputs": [],
   "source": [
    "#@title Imports\n",
    "import jax\n",
    "import tree\n",
    "\n",
    "import social_rl"
   ]
  },
  {
   "cell_type": "code",
   "execution_count": 3,
   "metadata": {},
   "outputs": [],
   "source": [
    "#@title Constants, experiment config.\n",
    "GOAL_COLOR = 'blue'\n",
    "NUM_STEPS = 100_000\n",
    "NUM_ITERATIONS = 1\n",
    "assert NUM_STEPS % NUM_ITERATIONS == 0\n",
    "BATCH_SIZE = 128"
   ]
  },
  {
   "cell_type": "code",
   "execution_count": 4,
   "metadata": {},
   "outputs": [],
   "source": [
    "#@title Initialise environment, agent and replay buffer.\n",
    "env = social_rl.GridWorld(goal_color=GOAL_COLOR)\n",
    "agent = social_rl.agents.DQNAgent(env)\n",
    "buffer = social_rl.replay.ExperienceBuffer(\n",
    "  batch_size=BATCH_SIZE, capacity=25_000)"
   ]
  },
  {
   "cell_type": "code",
   "execution_count": 5,
   "metadata": {},
   "outputs": [
    {
     "name": "stderr",
     "output_type": "stream",
     "text": [
      "WARNING:absl:No GPU/TPU found, falling back to CPU. (Set TF_CPP_MIN_LOG_LEVEL=0 and rerun for more info.)\n",
      "  0%|          | 0/100000 [00:00<?, ?it/s]/scratch/anglos/conda_envs/psiphi/lib/python3.7/site-packages/jax/_src/numpy/lax_numpy.py:5940: UserWarning: Explicitly requested dtype <class 'jax._src.numpy.lax_numpy.int64'> requested in astype is not available, and will be truncated to dtype int32. To enable more dtypes, set the jax_enable_x64 configuration option or the JAX_ENABLE_X64 shell environment variable. See https://github.com/google/jax#current-gotchas for more.\n",
      "  lax._check_user_dtype_supported(dtype, \"astype\")\n",
      "100%|██████████| 100000/100000 [08:22<00:00, 199.09it/s]\n"
     ]
    },
    {
     "data": {
      "image/png": "[encoded data removed]",
      "text/plain": [
       "<Figure size 288x288 with 1 Axes>"
      ]
     },
     "metadata": {},
     "output_type": "display_data"
    }
   ],
   "source": [
    "#@title Train agent online.\n",
    "agent_environment_loop = social_rl.loops.AgentEnvironmentLoop(env, agent, buffer)\n",
    "params, actor_state, learner_state = None, None, None\n",
    "rng_key = jax.random.PRNGKey(42)\n",
    "for iteration in range(NUM_ITERATIONS):\n",
    "  rng_key, loop_key = jax.random.split(rng_key, num=2)\n",
    "  params, actor_state, learner_state, agent_stats = agent_environment_loop.run(\n",
    "    rng_key,\n",
    "    num_iterations=NUM_STEPS // NUM_ITERATIONS,\n",
    "    params=params,\n",
    "    actor_state=actor_state,\n",
    "    learner_state=learner_state)\n",
    "  social_rl.plotting.plot_agent_environment_loop_stats(agent_stats)"
   ]
  },
  {
   "cell_type": "code",
   "execution_count": 6,
   "metadata": {},
   "outputs": [
    {
     "name": "stderr",
     "output_type": "stream",
     "text": [
      "100%|██████████| 500/500 [00:00<00:00, 683.04it/s]\n",
      "100%|██████████| 500/500 [00:00<00:00, 684.34it/s]\n",
      "100%|██████████| 500/500 [00:00<00:00, 687.22it/s]\n"
     ]
    },
    {
     "data": {
      "text/plain": [
       "{'red': -0.952, 'green': -0.952, 'blue': 0.952}"
      ]
     },
     "execution_count": 6,
     "metadata": {},
     "output_type": "execute_result"
    }
   ],
   "source": [
    "#@title Evaluate agent online.\n",
    "def evaluate(env: social_rl.GridWorld) -> float:\n",
    "  \"\"\"Return the success rate on `env`.\"\"\"\n",
    "  actor_env_loop = social_rl.loops.ActorEnvironmentLoop(env, agent)\n",
    "  _, actor_stats = actor_env_loop.run(\n",
    "    jax.random.PRNGKey(42),\n",
    "    num_iterations=500,\n",
    "    params=params,\n",
    "    actor_state=actor_state,\n",
    "    evaluation=True)\n",
    "  return actor_stats['returns'].sum() / len(actor_stats['returns'])\n",
    "\n",
    "environments = {\n",
    "    goal_color: social_rl.GridWorld(goal_color=goal_color, seed=42)\n",
    "    for goal_color in ('red', 'green', 'blue')\n",
    "}\n",
    "tree.map_structure(evaluate, environments)"
   ]
  }
 ],
 "metadata": {
  "interpreter": {
   "hash": "8cf823121c802befb634357e029443506a447c8fb9047a49dbe446d9645a516d"
  },
  "kernelspec": {
   "display_name": "Python 3.7.10 64-bit ('psiphi': conda)",
   "name": "python3"
  },
  "language_info": {
   "codemirror_mode": {
    "name": "ipython",
    "version": 3
   },
   "file_extension": ".py",
   "mimetype": "text/x-python",
   "name": "python",
   "nbconvert_exporter": "python",
   "pygments_lexer": "ipython3",
   "version": "3.7.10"
  },
  "orig_nbformat": 4
 },
 "nbformat": 4,
 "nbformat_minor": 2
}

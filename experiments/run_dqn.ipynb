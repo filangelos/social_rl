{
 "cells": [
  {
   "cell_type": "code",
   "execution_count": 1,
   "source": [
    "%cd /users/anglos/Developer/psiphi"
   ],
   "outputs": [
    {
     "output_type": "stream",
     "name": "stdout",
     "text": [
      "/auto/users/anglos/Developer/psiphi\n"
     ]
    }
   ],
   "metadata": {}
  },
  {
   "cell_type": "code",
   "execution_count": 2,
   "source": [
    "#@title Imports\n",
    "import jax\n",
    "import numpy as np\n",
    "import tree\n",
    "\n",
    "import social_rl"
   ],
   "outputs": [],
   "metadata": {}
  },
  {
   "cell_type": "code",
   "execution_count": 3,
   "source": [
    "#@title Constants, experiment config.\n",
    "GOAL_COLOR = 'red'\n",
    "NUM_STEPS = 100_000\n",
    "NUM_ITERATIONS = 1\n",
    "assert NUM_STEPS % NUM_ITERATIONS == 0\n",
    "BATCH_SIZE = 128"
   ],
   "outputs": [],
   "metadata": {}
  },
  {
   "cell_type": "code",
   "execution_count": 4,
   "source": [
    "#@title Initialise environment, agent and replay buffer.\n",
    "env = social_rl.GridWorld(goal_color='red')\n",
    "agent = social_rl.agents.DQNAgent(env)\n",
    "buffer = social_rl.replay.ExperienceBuffer(\n",
    "  batch_size=BATCH_SIZE, capacity=25_000)"
   ],
   "outputs": [],
   "metadata": {}
  },
  {
   "cell_type": "code",
   "execution_count": 5,
   "source": [
    "#@title Train agent online.\n",
    "agent_environment_loop = social_rl.loops.AgentEnvironmentLoop(env, agent, buffer)\n",
    "params, actor_state, learner_state = None, None, None\n",
    "rng_key = jax.random.PRNGKey(42)\n",
    "for iteration in range(NUM_ITERATIONS):\n",
    "  rng_key, loop_key = jax.random.split(rng_key, num=2)\n",
    "  params, actor_state, learner_state, agent_stats = agent_environment_loop.run(\n",
    "    rng_key,\n",
    "    num_iterations=NUM_STEPS // NUM_ITERATIONS,\n",
    "    params=params,\n",
    "    actor_state=actor_state,\n",
    "    learner_state=learner_state)\n",
    "  social_rl.plotting.plot_agent_environment_loop_stats(agent_stats)"
   ],
   "outputs": [
    {
     "output_type": "stream",
     "name": "stderr",
     "text": [
      "WARNING:absl:No GPU/TPU found, falling back to CPU. (Set TF_CPP_MIN_LOG_LEVEL=0 and rerun for more info.)\n",
      "  0%|          | 0/100000 [00:00<?, ?it/s]/scratch/anglos/conda_envs/psiphi/lib/python3.7/site-packages/jax/_src/numpy/lax_numpy.py:5940: UserWarning: Explicitly requested dtype <class 'jax._src.numpy.lax_numpy.int64'> requested in astype is not available, and will be truncated to dtype int32. To enable more dtypes, set the jax_enable_x64 configuration option or the JAX_ENABLE_X64 shell environment variable. See https://github.com/google/jax#current-gotchas for more.\n",
      "  lax._check_user_dtype_supported(dtype, \"astype\")\n",
      "100%|██████████| 100000/100000 [08:07<00:00, 205.27it/s]\n"
     ]
    },
    {
     "output_type": "display_data",
     "data": {
      "image/png": "[encoded data removed]",
      "text/plain": [
       "<Figure size 288x288 with 1 Axes>"
      ]
     },
     "metadata": {}
    }
   ],
   "metadata": {}
  },
  {
   "cell_type": "code",
   "execution_count": 6,
   "source": [
    "#@title Evaluate agent online.\n",
    "def evaluate(env: social_rl.GridWorld) -> float:\n",
    "  \"\"\"Return the success rate on `env`.\"\"\"\n",
    "  actor_env_loop = social_rl.loops.ActorEnvironmentLoop(env, agent)\n",
    "  _, actor_stats = actor_env_loop.run(\n",
    "    jax.random.PRNGKey(42),\n",
    "    num_iterations=500,\n",
    "    params=params,\n",
    "    actor_state=actor_state,\n",
    "    evaluation=True)\n",
    "  return actor_stats['returns'].sum() / len(actor_stats['returns'])\n",
    "\n",
    "environments = {\n",
    "    goal_color: social_rl.GridWorld(goal_color=goal_color, seed=42)\n",
    "    for goal_color in ('red', 'green', 'blue')\n",
    "}\n",
    "tree.map_structure(evaluate, environments)"
   ],
   "outputs": [
    {
     "output_type": "stream",
     "name": "stderr",
     "text": [
      "100%|██████████| 500/500 [00:00<00:00, 655.20it/s]\n",
      "100%|██████████| 500/500 [00:00<00:00, 677.47it/s]\n",
      "100%|██████████| 500/500 [00:00<00:00, 691.88it/s]\n"
     ]
    },
    {
     "output_type": "execute_result",
     "data": {
      "text/plain": [
       "{'red': 0.954, 'green': -0.954, 'blue': -0.976}"
      ]
     },
     "metadata": {},
     "execution_count": 6
    }
   ],
   "metadata": {}
  }
 ],
 "metadata": {
  "orig_nbformat": 4,
  "language_info": {
   "name": "python",
   "version": "3.7.10",
   "mimetype": "text/x-python",
   "codemirror_mode": {
    "name": "ipython",
    "version": 3
   },
   "pygments_lexer": "ipython3",
   "nbconvert_exporter": "python",
   "file_extension": ".py"
  },
  "kernelspec": {
   "name": "python3",
   "display_name": "Python 3.7.10 64-bit ('psiphi': conda)"
  },
  "interpreter": {
   "hash": "6eedc8518c6b112437b31290fab07efe608fe2eb0f8dedad7e07b90346a771a5"
  }
 },
 "nbformat": 4,
 "nbformat_minor": 2
}